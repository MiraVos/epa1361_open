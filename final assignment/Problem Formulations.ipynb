{
 "cells": [
  {
   "cell_type": "code",
   "execution_count": 3,
   "metadata": {},
   "outputs": [],
   "source": [
    "import numpy as np\n",
    "import scipy as sp\n",
    "import pandas as pd\n",
    "import matplotlib.pyplot as plt\n",
    "import seaborn as sns\n",
    "import networkx as nx"
   ]
  },
  {
   "cell_type": "code",
   "execution_count": 4,
   "metadata": {},
   "outputs": [
    {
     "name": "stdout",
     "output_type": "stream",
     "text": [
      "2.0.0\n",
      "3.1\n"
     ]
    }
   ],
   "source": [
    "# make sure pandas is version 1.0 or higher\n",
    "# make sure networkx is verion 2.4 or higher\n",
    "print(pd.__version__)\n",
    "print(nx.__version__)"
   ]
  },
  {
   "cell_type": "code",
   "execution_count": 5,
   "metadata": {
    "scrolled": true
   },
   "outputs": [],
   "source": [
    "from ema_workbench import (\n",
    "    Model,\n",
    "    Policy,\n",
    "    ema_logging,\n",
    "    SequentialEvaluator,\n",
    "    MultiprocessingEvaluator,\n",
    ")\n",
    "from dike_model_function import DikeNetwork  # @UnresolvedImport\n",
    "from problem_formulation import get_model_for_problem_formulation, sum_over, sum_over_time\n",
    "\n"
   ]
  },
  {
   "cell_type": "code",
   "execution_count": 6,
   "metadata": {},
   "outputs": [],
   "source": [
    "ema_logging.log_to_stderr(ema_logging.INFO)\n",
    "\n",
    "# choose problem formulation number, between 0-5\n",
    "# each problem formulation has its own list of outcomes\n",
    "dike_model, planning_steps = get_model_for_problem_formulation(3)"
   ]
  },
  {
   "cell_type": "code",
   "execution_count": 7,
   "metadata": {},
   "outputs": [
    {
     "name": "stdout",
     "output_type": "stream",
     "text": [
      "CategoricalParameter('discount rate 0', [0, 1, 2, 3])\n",
      "CategoricalParameter('discount rate 1', [0, 1, 2, 3])\n",
      "CategoricalParameter('discount rate 2', [0, 1, 2, 3])\n",
      "IntegerParameter('A.0_ID flood wave shape', 0, 132, resolution=None, default=None, variable_name=['A.0_ID flood wave shape'], pff=False)\n",
      "RealParameter('A.1_Bmax', 30, 350, resolution=None, default=None, variable_name=['A.1_Bmax'], pff=False)\n",
      "RealParameter('A.1_pfail', 0, 1, resolution=None, default=None, variable_name=['A.1_pfail'], pff=False)\n",
      "CategoricalParameter('A.1_Brate', [0, 1, 2])\n",
      "RealParameter('A.2_Bmax', 30, 350, resolution=None, default=None, variable_name=['A.2_Bmax'], pff=False)\n",
      "RealParameter('A.2_pfail', 0, 1, resolution=None, default=None, variable_name=['A.2_pfail'], pff=False)\n",
      "CategoricalParameter('A.2_Brate', [0, 1, 2])\n",
      "RealParameter('A.3_Bmax', 30, 350, resolution=None, default=None, variable_name=['A.3_Bmax'], pff=False)\n",
      "RealParameter('A.3_pfail', 0, 1, resolution=None, default=None, variable_name=['A.3_pfail'], pff=False)\n",
      "CategoricalParameter('A.3_Brate', [0, 1, 2])\n",
      "RealParameter('A.4_Bmax', 30, 350, resolution=None, default=None, variable_name=['A.4_Bmax'], pff=False)\n",
      "RealParameter('A.4_pfail', 0, 1, resolution=None, default=None, variable_name=['A.4_pfail'], pff=False)\n",
      "CategoricalParameter('A.4_Brate', [0, 1, 2])\n",
      "RealParameter('A.5_Bmax', 30, 350, resolution=None, default=None, variable_name=['A.5_Bmax'], pff=False)\n",
      "RealParameter('A.5_pfail', 0, 1, resolution=None, default=None, variable_name=['A.5_pfail'], pff=False)\n",
      "CategoricalParameter('A.5_Brate', [0, 1, 2])\n"
     ]
    }
   ],
   "source": [
    "# enlisting uncertainties, their types (RealParameter/IntegerParameter/CategoricalParameter), lower boundary, and upper boundary\n",
    "import copy\n",
    "\n",
    "for unc in dike_model.uncertainties:\n",
    "    print(repr(unc))\n",
    "\n",
    "uncertainties = copy.deepcopy(dike_model.uncertainties)"
   ]
  },
  {
   "cell_type": "code",
   "execution_count": 8,
   "metadata": {},
   "outputs": [
    {
     "name": "stdout",
     "output_type": "stream",
     "text": [
      "IntegerParameter('0_RfR 0', 0, 1, resolution=None, default=None, variable_name=['0_RfR 0'], pff=False)\n",
      "IntegerParameter('0_RfR 1', 0, 1, resolution=None, default=None, variable_name=['0_RfR 1'], pff=False)\n",
      "IntegerParameter('0_RfR 2', 0, 1, resolution=None, default=None, variable_name=['0_RfR 2'], pff=False)\n",
      "IntegerParameter('1_RfR 0', 0, 1, resolution=None, default=None, variable_name=['1_RfR 0'], pff=False)\n",
      "IntegerParameter('1_RfR 1', 0, 1, resolution=None, default=None, variable_name=['1_RfR 1'], pff=False)\n",
      "IntegerParameter('1_RfR 2', 0, 1, resolution=None, default=None, variable_name=['1_RfR 2'], pff=False)\n",
      "IntegerParameter('2_RfR 0', 0, 1, resolution=None, default=None, variable_name=['2_RfR 0'], pff=False)\n",
      "IntegerParameter('2_RfR 1', 0, 1, resolution=None, default=None, variable_name=['2_RfR 1'], pff=False)\n",
      "IntegerParameter('2_RfR 2', 0, 1, resolution=None, default=None, variable_name=['2_RfR 2'], pff=False)\n",
      "IntegerParameter('3_RfR 0', 0, 1, resolution=None, default=None, variable_name=['3_RfR 0'], pff=False)\n",
      "IntegerParameter('3_RfR 1', 0, 1, resolution=None, default=None, variable_name=['3_RfR 1'], pff=False)\n",
      "IntegerParameter('3_RfR 2', 0, 1, resolution=None, default=None, variable_name=['3_RfR 2'], pff=False)\n",
      "IntegerParameter('4_RfR 0', 0, 1, resolution=None, default=None, variable_name=['4_RfR 0'], pff=False)\n",
      "IntegerParameter('4_RfR 1', 0, 1, resolution=None, default=None, variable_name=['4_RfR 1'], pff=False)\n",
      "IntegerParameter('4_RfR 2', 0, 1, resolution=None, default=None, variable_name=['4_RfR 2'], pff=False)\n",
      "IntegerParameter('EWS_DaysToThreat', 0, 4, resolution=None, default=None, variable_name=['EWS_DaysToThreat'], pff=False)\n",
      "IntegerParameter('A.1_DikeIncrease 0', 0, 10, resolution=None, default=None, variable_name=['A.1_DikeIncrease 0'], pff=False)\n",
      "IntegerParameter('A.1_DikeIncrease 1', 0, 10, resolution=None, default=None, variable_name=['A.1_DikeIncrease 1'], pff=False)\n",
      "IntegerParameter('A.1_DikeIncrease 2', 0, 10, resolution=None, default=None, variable_name=['A.1_DikeIncrease 2'], pff=False)\n",
      "IntegerParameter('A.2_DikeIncrease 0', 0, 10, resolution=None, default=None, variable_name=['A.2_DikeIncrease 0'], pff=False)\n",
      "IntegerParameter('A.2_DikeIncrease 1', 0, 10, resolution=None, default=None, variable_name=['A.2_DikeIncrease 1'], pff=False)\n",
      "IntegerParameter('A.2_DikeIncrease 2', 0, 10, resolution=None, default=None, variable_name=['A.2_DikeIncrease 2'], pff=False)\n",
      "IntegerParameter('A.3_DikeIncrease 0', 0, 10, resolution=None, default=None, variable_name=['A.3_DikeIncrease 0'], pff=False)\n",
      "IntegerParameter('A.3_DikeIncrease 1', 0, 10, resolution=None, default=None, variable_name=['A.3_DikeIncrease 1'], pff=False)\n",
      "IntegerParameter('A.3_DikeIncrease 2', 0, 10, resolution=None, default=None, variable_name=['A.3_DikeIncrease 2'], pff=False)\n",
      "IntegerParameter('A.4_DikeIncrease 0', 0, 10, resolution=None, default=None, variable_name=['A.4_DikeIncrease 0'], pff=False)\n",
      "IntegerParameter('A.4_DikeIncrease 1', 0, 10, resolution=None, default=None, variable_name=['A.4_DikeIncrease 1'], pff=False)\n",
      "IntegerParameter('A.4_DikeIncrease 2', 0, 10, resolution=None, default=None, variable_name=['A.4_DikeIncrease 2'], pff=False)\n",
      "IntegerParameter('A.5_DikeIncrease 0', 0, 10, resolution=None, default=None, variable_name=['A.5_DikeIncrease 0'], pff=False)\n",
      "IntegerParameter('A.5_DikeIncrease 1', 0, 10, resolution=None, default=None, variable_name=['A.5_DikeIncrease 1'], pff=False)\n",
      "IntegerParameter('A.5_DikeIncrease 2', 0, 10, resolution=None, default=None, variable_name=['A.5_DikeIncrease 2'], pff=False)\n"
     ]
    }
   ],
   "source": [
    "# enlisting policy levers, their types (RealParameter/IntegerParameter), lower boundary, and upper boundary\n",
    "for policy in dike_model.levers:\n",
    "    print(repr(policy))\n",
    "\n",
    "levers = copy.deepcopy(dike_model.levers)"
   ]
  },
  {
   "cell_type": "code",
   "execution_count": 9,
   "metadata": {},
   "outputs": [
    {
     "name": "stdout",
     "output_type": "stream",
     "text": [
      "ScalarOutcome('A.1 Total Costs', variable_name=('A.1_Expected Annual Damage', 'A.1_Dike Investment Costs'), function=<function sum_over at 0x12c83d4e0>)\n",
      "ScalarOutcome('A.1_Expected Number of Deaths', variable_name=('A.1_Expected Number of Deaths',), function=<function sum_over at 0x12c83d4e0>)\n",
      "ScalarOutcome('A.2 Total Costs', variable_name=('A.2_Expected Annual Damage', 'A.2_Dike Investment Costs'), function=<function sum_over at 0x12c83d4e0>)\n",
      "ScalarOutcome('A.2_Expected Number of Deaths', variable_name=('A.2_Expected Number of Deaths',), function=<function sum_over at 0x12c83d4e0>)\n",
      "ScalarOutcome('A.3 Total Costs', variable_name=('A.3_Expected Annual Damage', 'A.3_Dike Investment Costs'), function=<function sum_over at 0x12c83d4e0>)\n",
      "ScalarOutcome('A.3_Expected Number of Deaths', variable_name=('A.3_Expected Number of Deaths',), function=<function sum_over at 0x12c83d4e0>)\n",
      "ScalarOutcome('A.4 Total Costs', variable_name=('A.4_Expected Annual Damage', 'A.4_Dike Investment Costs'), function=<function sum_over at 0x12c83d4e0>)\n",
      "ScalarOutcome('A.4_Expected Number of Deaths', variable_name=('A.4_Expected Number of Deaths',), function=<function sum_over at 0x12c83d4e0>)\n",
      "ScalarOutcome('A.5 Total Costs', variable_name=('A.5_Expected Annual Damage', 'A.5_Dike Investment Costs'), function=<function sum_over at 0x12c83d4e0>)\n",
      "ScalarOutcome('A.5_Expected Number of Deaths', variable_name=('A.5_Expected Number of Deaths',), function=<function sum_over at 0x12c83d4e0>)\n",
      "ScalarOutcome('RfR Total Costs', variable_name=('RfR Total Costs',), function=<function sum_over at 0x12c83d4e0>)\n",
      "ScalarOutcome('Expected Evacuation Costs', variable_name=('Expected Evacuation Costs',), function=<function sum_over at 0x12c83d4e0>)\n"
     ]
    }
   ],
   "source": [
    "# enlisting outcomes\n",
    "for outcome in dike_model.outcomes:\n",
    "    print(repr(outcome))"
   ]
  },
  {
   "cell_type": "code",
   "execution_count": 10,
   "metadata": {},
   "outputs": [
    {
     "name": "stderr",
     "output_type": "stream",
     "text": [
      "[MainProcess/INFO] pool started with 4 workers\n",
      "[MainProcess/INFO] performing 50 scenarios * 4 policies * 1 model(s) = 200 experiments\n",
      "100%|████████████████████████████████████████| 200/200 [01:48<00:00,  1.84it/s]\n",
      "[MainProcess/INFO] experiments finished\n",
      "[MainProcess/INFO] terminating pool\n"
     ]
    }
   ],
   "source": [
    "# running the model through EMA workbench\n",
    "with MultiprocessingEvaluator(dike_model) as evaluator:\n",
    "    results = evaluator.perform_experiments(scenarios=50, policies=4)"
   ]
  },
  {
   "cell_type": "code",
   "execution_count": 11,
   "metadata": {
    "scrolled": true
   },
   "outputs": [
    {
     "name": "stdout",
     "output_type": "stream",
     "text": [
      "dict_keys(['A.1 Total Costs', 'A.1_Expected Number of Deaths', 'A.2 Total Costs', 'A.2_Expected Number of Deaths', 'A.3 Total Costs', 'A.3_Expected Number of Deaths', 'A.4 Total Costs', 'A.4_Expected Number of Deaths', 'A.5 Total Costs', 'A.5_Expected Number of Deaths', 'RfR Total Costs', 'Expected Evacuation Costs'])\n"
     ]
    },
    {
     "data": {
      "text/html": "<div>\n<style scoped>\n    .dataframe tbody tr th:only-of-type {\n        vertical-align: middle;\n    }\n\n    .dataframe tbody tr th {\n        vertical-align: top;\n    }\n\n    .dataframe thead th {\n        text-align: right;\n    }\n</style>\n<table border=\"1\" class=\"dataframe\">\n  <thead>\n    <tr style=\"text-align: right;\">\n      <th></th>\n      <th>A.0_ID flood wave shape</th>\n      <th>A.1_Bmax</th>\n      <th>A.1_Brate</th>\n      <th>A.1_pfail</th>\n      <th>A.2_Bmax</th>\n      <th>A.2_Brate</th>\n      <th>A.2_pfail</th>\n      <th>A.3_Bmax</th>\n      <th>A.3_Brate</th>\n      <th>A.3_pfail</th>\n      <th>...</th>\n      <th>A.4_DikeIncrease 0</th>\n      <th>A.4_DikeIncrease 1</th>\n      <th>A.4_DikeIncrease 2</th>\n      <th>A.5_DikeIncrease 0</th>\n      <th>A.5_DikeIncrease 1</th>\n      <th>A.5_DikeIncrease 2</th>\n      <th>EWS_DaysToThreat</th>\n      <th>scenario</th>\n      <th>policy</th>\n      <th>model</th>\n    </tr>\n  </thead>\n  <tbody>\n    <tr>\n      <th>0</th>\n      <td>56</td>\n      <td>109.889084</td>\n      <td>1.0</td>\n      <td>0.495727</td>\n      <td>142.377135</td>\n      <td>1.0</td>\n      <td>0.198474</td>\n      <td>49.119692</td>\n      <td>1.0</td>\n      <td>0.930366</td>\n      <td>...</td>\n      <td>9</td>\n      <td>1</td>\n      <td>3</td>\n      <td>7</td>\n      <td>2</td>\n      <td>4</td>\n      <td>4</td>\n      <td>4</td>\n      <td>0</td>\n      <td>dikesnet</td>\n    </tr>\n    <tr>\n      <th>1</th>\n      <td>40</td>\n      <td>297.605621</td>\n      <td>1.0</td>\n      <td>0.924324</td>\n      <td>106.668654</td>\n      <td>1.5</td>\n      <td>0.944887</td>\n      <td>326.783560</td>\n      <td>1.0</td>\n      <td>0.059685</td>\n      <td>...</td>\n      <td>9</td>\n      <td>1</td>\n      <td>3</td>\n      <td>7</td>\n      <td>2</td>\n      <td>4</td>\n      <td>4</td>\n      <td>5</td>\n      <td>0</td>\n      <td>dikesnet</td>\n    </tr>\n    <tr>\n      <th>2</th>\n      <td>89</td>\n      <td>290.647896</td>\n      <td>1.5</td>\n      <td>0.055623</td>\n      <td>58.544044</td>\n      <td>1.5</td>\n      <td>0.686748</td>\n      <td>131.918468</td>\n      <td>1.5</td>\n      <td>0.983720</td>\n      <td>...</td>\n      <td>9</td>\n      <td>1</td>\n      <td>3</td>\n      <td>7</td>\n      <td>2</td>\n      <td>4</td>\n      <td>4</td>\n      <td>6</td>\n      <td>0</td>\n      <td>dikesnet</td>\n    </tr>\n    <tr>\n      <th>3</th>\n      <td>11</td>\n      <td>254.622549</td>\n      <td>1.5</td>\n      <td>0.208255</td>\n      <td>219.048653</td>\n      <td>10.0</td>\n      <td>0.333599</td>\n      <td>337.020536</td>\n      <td>1.0</td>\n      <td>0.379379</td>\n      <td>...</td>\n      <td>9</td>\n      <td>1</td>\n      <td>3</td>\n      <td>7</td>\n      <td>2</td>\n      <td>4</td>\n      <td>4</td>\n      <td>7</td>\n      <td>0</td>\n      <td>dikesnet</td>\n    </tr>\n    <tr>\n      <th>4</th>\n      <td>75</td>\n      <td>244.082670</td>\n      <td>10.0</td>\n      <td>0.542971</td>\n      <td>97.959127</td>\n      <td>10.0</td>\n      <td>0.702444</td>\n      <td>116.113765</td>\n      <td>1.5</td>\n      <td>0.707513</td>\n      <td>...</td>\n      <td>9</td>\n      <td>1</td>\n      <td>3</td>\n      <td>7</td>\n      <td>2</td>\n      <td>4</td>\n      <td>4</td>\n      <td>8</td>\n      <td>0</td>\n      <td>dikesnet</td>\n    </tr>\n    <tr>\n      <th>...</th>\n      <td>...</td>\n      <td>...</td>\n      <td>...</td>\n      <td>...</td>\n      <td>...</td>\n      <td>...</td>\n      <td>...</td>\n      <td>...</td>\n      <td>...</td>\n      <td>...</td>\n      <td>...</td>\n      <td>...</td>\n      <td>...</td>\n      <td>...</td>\n      <td>...</td>\n      <td>...</td>\n      <td>...</td>\n      <td>...</td>\n      <td>...</td>\n      <td>...</td>\n      <td>...</td>\n    </tr>\n    <tr>\n      <th>195</th>\n      <td>13</td>\n      <td>43.609953</td>\n      <td>1.5</td>\n      <td>0.864704</td>\n      <td>160.003987</td>\n      <td>1.5</td>\n      <td>0.127048</td>\n      <td>32.803669</td>\n      <td>1.0</td>\n      <td>0.205819</td>\n      <td>...</td>\n      <td>0</td>\n      <td>6</td>\n      <td>7</td>\n      <td>5</td>\n      <td>1</td>\n      <td>6</td>\n      <td>3</td>\n      <td>49</td>\n      <td>3</td>\n      <td>dikesnet</td>\n    </tr>\n    <tr>\n      <th>196</th>\n      <td>50</td>\n      <td>56.648318</td>\n      <td>1.5</td>\n      <td>0.139488</td>\n      <td>319.285674</td>\n      <td>10.0</td>\n      <td>0.050492</td>\n      <td>196.065119</td>\n      <td>10.0</td>\n      <td>0.082973</td>\n      <td>...</td>\n      <td>0</td>\n      <td>6</td>\n      <td>7</td>\n      <td>5</td>\n      <td>1</td>\n      <td>6</td>\n      <td>3</td>\n      <td>50</td>\n      <td>3</td>\n      <td>dikesnet</td>\n    </tr>\n    <tr>\n      <th>197</th>\n      <td>27</td>\n      <td>333.832041</td>\n      <td>1.0</td>\n      <td>0.600740</td>\n      <td>247.424771</td>\n      <td>1.0</td>\n      <td>0.561847</td>\n      <td>239.213635</td>\n      <td>1.5</td>\n      <td>0.765258</td>\n      <td>...</td>\n      <td>0</td>\n      <td>6</td>\n      <td>7</td>\n      <td>5</td>\n      <td>1</td>\n      <td>6</td>\n      <td>3</td>\n      <td>51</td>\n      <td>3</td>\n      <td>dikesnet</td>\n    </tr>\n    <tr>\n      <th>198</th>\n      <td>78</td>\n      <td>86.317839</td>\n      <td>1.0</td>\n      <td>0.707363</td>\n      <td>42.879498</td>\n      <td>10.0</td>\n      <td>0.216369</td>\n      <td>281.971545</td>\n      <td>10.0</td>\n      <td>0.917609</td>\n      <td>...</td>\n      <td>0</td>\n      <td>6</td>\n      <td>7</td>\n      <td>5</td>\n      <td>1</td>\n      <td>6</td>\n      <td>3</td>\n      <td>52</td>\n      <td>3</td>\n      <td>dikesnet</td>\n    </tr>\n    <tr>\n      <th>199</th>\n      <td>65</td>\n      <td>310.392956</td>\n      <td>1.0</td>\n      <td>0.738173</td>\n      <td>64.268914</td>\n      <td>1.0</td>\n      <td>0.250250</td>\n      <td>308.045202</td>\n      <td>1.5</td>\n      <td>0.850283</td>\n      <td>...</td>\n      <td>0</td>\n      <td>6</td>\n      <td>7</td>\n      <td>5</td>\n      <td>1</td>\n      <td>6</td>\n      <td>3</td>\n      <td>53</td>\n      <td>3</td>\n      <td>dikesnet</td>\n    </tr>\n  </tbody>\n</table>\n<p>200 rows × 53 columns</p>\n</div>",
      "text/plain": "     A.0_ID flood wave shape    A.1_Bmax A.1_Brate  A.1_pfail    A.2_Bmax   \n0                         56  109.889084       1.0   0.495727  142.377135  \\\n1                         40  297.605621       1.0   0.924324  106.668654   \n2                         89  290.647896       1.5   0.055623   58.544044   \n3                         11  254.622549       1.5   0.208255  219.048653   \n4                         75  244.082670      10.0   0.542971   97.959127   \n..                       ...         ...       ...        ...         ...   \n195                       13   43.609953       1.5   0.864704  160.003987   \n196                       50   56.648318       1.5   0.139488  319.285674   \n197                       27  333.832041       1.0   0.600740  247.424771   \n198                       78   86.317839       1.0   0.707363   42.879498   \n199                       65  310.392956       1.0   0.738173   64.268914   \n\n    A.2_Brate  A.2_pfail    A.3_Bmax A.3_Brate  A.3_pfail  ...   \n0         1.0   0.198474   49.119692       1.0   0.930366  ...  \\\n1         1.5   0.944887  326.783560       1.0   0.059685  ...   \n2         1.5   0.686748  131.918468       1.5   0.983720  ...   \n3        10.0   0.333599  337.020536       1.0   0.379379  ...   \n4        10.0   0.702444  116.113765       1.5   0.707513  ...   \n..        ...        ...         ...       ...        ...  ...   \n195       1.5   0.127048   32.803669       1.0   0.205819  ...   \n196      10.0   0.050492  196.065119      10.0   0.082973  ...   \n197       1.0   0.561847  239.213635       1.5   0.765258  ...   \n198      10.0   0.216369  281.971545      10.0   0.917609  ...   \n199       1.0   0.250250  308.045202       1.5   0.850283  ...   \n\n     A.4_DikeIncrease 0 A.4_DikeIncrease 1  A.4_DikeIncrease 2   \n0                     9                  1                   3  \\\n1                     9                  1                   3   \n2                     9                  1                   3   \n3                     9                  1                   3   \n4                     9                  1                   3   \n..                  ...                ...                 ...   \n195                   0                  6                   7   \n196                   0                  6                   7   \n197                   0                  6                   7   \n198                   0                  6                   7   \n199                   0                  6                   7   \n\n     A.5_DikeIncrease 0 A.5_DikeIncrease 1  A.5_DikeIncrease 2   \n0                     7                  2                   4  \\\n1                     7                  2                   4   \n2                     7                  2                   4   \n3                     7                  2                   4   \n4                     7                  2                   4   \n..                  ...                ...                 ...   \n195                   5                  1                   6   \n196                   5                  1                   6   \n197                   5                  1                   6   \n198                   5                  1                   6   \n199                   5                  1                   6   \n\n    EWS_DaysToThreat scenario policy     model  \n0                  4        4      0  dikesnet  \n1                  4        5      0  dikesnet  \n2                  4        6      0  dikesnet  \n3                  4        7      0  dikesnet  \n4                  4        8      0  dikesnet  \n..               ...      ...    ...       ...  \n195                3       49      3  dikesnet  \n196                3       50      3  dikesnet  \n197                3       51      3  dikesnet  \n198                3       52      3  dikesnet  \n199                3       53      3  dikesnet  \n\n[200 rows x 53 columns]"
     },
     "execution_count": 11,
     "metadata": {},
     "output_type": "execute_result"
    }
   ],
   "source": [
    "# observing the simulation runs\n",
    "experiments, outcomes = results\n",
    "print(outcomes.keys())\n",
    "experiments"
   ]
  },
  {
   "cell_type": "code",
   "execution_count": 12,
   "metadata": {},
   "outputs": [
    {
     "data": {
      "text/html": "<div>\n<style scoped>\n    .dataframe tbody tr th:only-of-type {\n        vertical-align: middle;\n    }\n\n    .dataframe tbody tr th {\n        vertical-align: top;\n    }\n\n    .dataframe thead th {\n        text-align: right;\n    }\n</style>\n<table border=\"1\" class=\"dataframe\">\n  <thead>\n    <tr style=\"text-align: right;\">\n      <th></th>\n      <th>A.1 Total Costs</th>\n      <th>A.1_Expected Number of Deaths</th>\n      <th>A.2 Total Costs</th>\n      <th>A.2_Expected Number of Deaths</th>\n      <th>A.3 Total Costs</th>\n      <th>A.3_Expected Number of Deaths</th>\n      <th>A.4 Total Costs</th>\n      <th>A.4_Expected Number of Deaths</th>\n      <th>A.5 Total Costs</th>\n      <th>A.5_Expected Number of Deaths</th>\n      <th>RfR Total Costs</th>\n      <th>Expected Evacuation Costs</th>\n    </tr>\n  </thead>\n  <tbody>\n    <tr>\n      <th>0</th>\n      <td>2.173742e+08</td>\n      <td>0.0</td>\n      <td>1.319753e+08</td>\n      <td>0.000434</td>\n      <td>3.139880e+07</td>\n      <td>0.000000</td>\n      <td>3.852595e+07</td>\n      <td>0.000000</td>\n      <td>1.242471e+08</td>\n      <td>0.000000</td>\n      <td>1.207400e+09</td>\n      <td>236.391152</td>\n    </tr>\n    <tr>\n      <th>1</th>\n      <td>2.173742e+08</td>\n      <td>0.0</td>\n      <td>1.289043e+08</td>\n      <td>0.000000</td>\n      <td>1.918928e+08</td>\n      <td>0.023344</td>\n      <td>3.852595e+07</td>\n      <td>0.000000</td>\n      <td>1.242471e+08</td>\n      <td>0.000000</td>\n      <td>1.207400e+09</td>\n      <td>7225.040591</td>\n    </tr>\n    <tr>\n      <th>2</th>\n      <td>2.173742e+08</td>\n      <td>0.0</td>\n      <td>1.289043e+08</td>\n      <td>0.000000</td>\n      <td>3.139880e+07</td>\n      <td>0.000000</td>\n      <td>3.852595e+07</td>\n      <td>0.000000</td>\n      <td>1.242471e+08</td>\n      <td>0.000000</td>\n      <td>1.207400e+09</td>\n      <td>0.000000</td>\n    </tr>\n    <tr>\n      <th>3</th>\n      <td>2.173742e+08</td>\n      <td>0.0</td>\n      <td>1.289043e+08</td>\n      <td>0.000000</td>\n      <td>3.703855e+07</td>\n      <td>0.001454</td>\n      <td>3.852595e+07</td>\n      <td>0.000000</td>\n      <td>1.242471e+08</td>\n      <td>0.000000</td>\n      <td>1.207400e+09</td>\n      <td>364.219849</td>\n    </tr>\n    <tr>\n      <th>4</th>\n      <td>2.173742e+08</td>\n      <td>0.0</td>\n      <td>1.289043e+08</td>\n      <td>0.000000</td>\n      <td>3.139880e+07</td>\n      <td>0.000000</td>\n      <td>3.852595e+07</td>\n      <td>0.000000</td>\n      <td>1.314744e+08</td>\n      <td>0.000978</td>\n      <td>1.207400e+09</td>\n      <td>643.740703</td>\n    </tr>\n    <tr>\n      <th>...</th>\n      <td>...</td>\n      <td>...</td>\n      <td>...</td>\n      <td>...</td>\n      <td>...</td>\n      <td>...</td>\n      <td>...</td>\n      <td>...</td>\n      <td>...</td>\n      <td>...</td>\n      <td>...</td>\n      <td>...</td>\n    </tr>\n    <tr>\n      <th>195</th>\n      <td>1.816351e+08</td>\n      <td>0.0</td>\n      <td>1.903087e+08</td>\n      <td>0.000449</td>\n      <td>1.693374e+08</td>\n      <td>0.000000</td>\n      <td>3.003357e+07</td>\n      <td>0.000000</td>\n      <td>1.155633e+08</td>\n      <td>0.000000</td>\n      <td>1.141600e+09</td>\n      <td>205.039639</td>\n    </tr>\n    <tr>\n      <th>196</th>\n      <td>1.816351e+08</td>\n      <td>0.0</td>\n      <td>1.988796e+08</td>\n      <td>0.002258</td>\n      <td>1.693374e+08</td>\n      <td>0.000000</td>\n      <td>3.003357e+07</td>\n      <td>0.000000</td>\n      <td>1.155633e+08</td>\n      <td>0.000000</td>\n      <td>1.141600e+09</td>\n      <td>1052.512117</td>\n    </tr>\n    <tr>\n      <th>197</th>\n      <td>1.816351e+08</td>\n      <td>0.0</td>\n      <td>1.852250e+08</td>\n      <td>0.000000</td>\n      <td>1.693374e+08</td>\n      <td>0.000000</td>\n      <td>3.112300e+07</td>\n      <td>0.000069</td>\n      <td>1.155633e+08</td>\n      <td>0.000000</td>\n      <td>1.141600e+09</td>\n      <td>70.656630</td>\n    </tr>\n    <tr>\n      <th>198</th>\n      <td>1.816351e+08</td>\n      <td>0.0</td>\n      <td>1.891938e+08</td>\n      <td>0.000459</td>\n      <td>1.693374e+08</td>\n      <td>0.000000</td>\n      <td>3.104397e+07</td>\n      <td>0.000061</td>\n      <td>1.155633e+08</td>\n      <td>0.000000</td>\n      <td>1.141600e+09</td>\n      <td>275.167610</td>\n    </tr>\n    <tr>\n      <th>199</th>\n      <td>1.816351e+08</td>\n      <td>0.0</td>\n      <td>1.855171e+08</td>\n      <td>0.000026</td>\n      <td>1.693374e+08</td>\n      <td>0.000000</td>\n      <td>3.457980e+07</td>\n      <td>0.000192</td>\n      <td>1.155633e+08</td>\n      <td>0.000000</td>\n      <td>1.141600e+09</td>\n      <td>263.842144</td>\n    </tr>\n  </tbody>\n</table>\n<p>200 rows × 12 columns</p>\n</div>",
      "text/plain": "     A.1 Total Costs  A.1_Expected Number of Deaths  A.2 Total Costs   \n0       2.173742e+08                            0.0     1.319753e+08  \\\n1       2.173742e+08                            0.0     1.289043e+08   \n2       2.173742e+08                            0.0     1.289043e+08   \n3       2.173742e+08                            0.0     1.289043e+08   \n4       2.173742e+08                            0.0     1.289043e+08   \n..               ...                            ...              ...   \n195     1.816351e+08                            0.0     1.903087e+08   \n196     1.816351e+08                            0.0     1.988796e+08   \n197     1.816351e+08                            0.0     1.852250e+08   \n198     1.816351e+08                            0.0     1.891938e+08   \n199     1.816351e+08                            0.0     1.855171e+08   \n\n     A.2_Expected Number of Deaths  A.3 Total Costs   \n0                         0.000434     3.139880e+07  \\\n1                         0.000000     1.918928e+08   \n2                         0.000000     3.139880e+07   \n3                         0.000000     3.703855e+07   \n4                         0.000000     3.139880e+07   \n..                             ...              ...   \n195                       0.000449     1.693374e+08   \n196                       0.002258     1.693374e+08   \n197                       0.000000     1.693374e+08   \n198                       0.000459     1.693374e+08   \n199                       0.000026     1.693374e+08   \n\n     A.3_Expected Number of Deaths  A.4 Total Costs   \n0                         0.000000     3.852595e+07  \\\n1                         0.023344     3.852595e+07   \n2                         0.000000     3.852595e+07   \n3                         0.001454     3.852595e+07   \n4                         0.000000     3.852595e+07   \n..                             ...              ...   \n195                       0.000000     3.003357e+07   \n196                       0.000000     3.003357e+07   \n197                       0.000000     3.112300e+07   \n198                       0.000000     3.104397e+07   \n199                       0.000000     3.457980e+07   \n\n     A.4_Expected Number of Deaths  A.5 Total Costs   \n0                         0.000000     1.242471e+08  \\\n1                         0.000000     1.242471e+08   \n2                         0.000000     1.242471e+08   \n3                         0.000000     1.242471e+08   \n4                         0.000000     1.314744e+08   \n..                             ...              ...   \n195                       0.000000     1.155633e+08   \n196                       0.000000     1.155633e+08   \n197                       0.000069     1.155633e+08   \n198                       0.000061     1.155633e+08   \n199                       0.000192     1.155633e+08   \n\n     A.5_Expected Number of Deaths  RfR Total Costs  Expected Evacuation Costs  \n0                         0.000000     1.207400e+09                 236.391152  \n1                         0.000000     1.207400e+09                7225.040591  \n2                         0.000000     1.207400e+09                   0.000000  \n3                         0.000000     1.207400e+09                 364.219849  \n4                         0.000978     1.207400e+09                 643.740703  \n..                             ...              ...                        ...  \n195                       0.000000     1.141600e+09                 205.039639  \n196                       0.000000     1.141600e+09                1052.512117  \n197                       0.000000     1.141600e+09                  70.656630  \n198                       0.000000     1.141600e+09                 275.167610  \n199                       0.000000     1.141600e+09                 263.842144  \n\n[200 rows x 12 columns]"
     },
     "execution_count": 12,
     "metadata": {},
     "output_type": "execute_result"
    }
   ],
   "source": [
    "# only works because we have scalar outcomes\n",
    "pd.DataFrame(outcomes)"
   ]
  },
  {
   "cell_type": "code",
   "execution_count": 13,
   "metadata": {},
   "outputs": [],
   "source": [
    "# defining specific policies\n",
    "# for example, policy 1 is about extra protection in upper boundary\n",
    "# policy 2 is about extra protection in lower boundary\n",
    "# policy 3 is extra protection in random locations\n",
    "\n",
    "\n",
    "def get_do_nothing_dict():\n",
    "    return {l.name: 0 for l in dike_model.levers}\n",
    "\n",
    "\n",
    "policies = [\n",
    "    Policy(\n",
    "        \"policy 1\",\n",
    "        **dict(\n",
    "            get_do_nothing_dict(),\n",
    "            **{\"0_RfR 0\": 1, \"0_RfR 1\": 1, \"0_RfR 2\": 1, \"A.1_DikeIncrease 0\": 5}\n",
    "        )\n",
    "    ),\n",
    "    Policy(\n",
    "        \"policy 2\",\n",
    "        **dict(\n",
    "            get_do_nothing_dict(),\n",
    "            **{\"4_RfR 0\": 1, \"4_RfR 1\": 1, \"4_RfR 2\": 1, \"A.5_DikeIncrease 0\": 5}\n",
    "        )\n",
    "    ),\n",
    "    Policy(\n",
    "        \"policy 3\",\n",
    "        **dict(\n",
    "            get_do_nothing_dict(),\n",
    "            **{\"1_RfR 0\": 1, \"2_RfR 1\": 1, \"3_RfR 2\": 1, \"A.3_DikeIncrease 0\": 5}\n",
    "        )\n",
    "    ),\n",
    "]"
   ]
  },
  {
   "cell_type": "code",
   "execution_count": 14,
   "metadata": {},
   "outputs": [
    {
     "name": "stderr",
     "output_type": "stream",
     "text": [
      "[MainProcess/INFO] pool started with 4 workers\n",
      "[MainProcess/INFO] performing 100 scenarios * 3 policies * 1 model(s) = 300 experiments\n",
      "100%|████████████████████████████████████████| 300/300 [03:52<00:00,  1.29it/s]\n",
      "[MainProcess/INFO] experiments finished\n",
      "[MainProcess/INFO] terminating pool\n"
     ]
    }
   ],
   "source": [
    "# pass the policies list to EMA workbench experiment runs\n",
    "n_scenarios = 100\n",
    "with MultiprocessingEvaluator(dike_model) as evaluator:\n",
    "    results = evaluator.perform_experiments(n_scenarios, policies)"
   ]
  },
  {
   "cell_type": "code",
   "execution_count": 15,
   "metadata": {},
   "outputs": [],
   "source": [
    "experiments, outcomes = results"
   ]
  },
  {
   "cell_type": "code",
   "execution_count": 16,
   "metadata": {},
   "outputs": [
    {
     "data": {
      "text/html": "<div>\n<style scoped>\n    .dataframe tbody tr th:only-of-type {\n        vertical-align: middle;\n    }\n\n    .dataframe tbody tr th {\n        vertical-align: top;\n    }\n\n    .dataframe thead th {\n        text-align: right;\n    }\n</style>\n<table border=\"1\" class=\"dataframe\">\n  <thead>\n    <tr style=\"text-align: right;\">\n      <th></th>\n      <th>A.1 Total Costs</th>\n      <th>A.1_Expected Number of Deaths</th>\n      <th>A.2 Total Costs</th>\n      <th>A.2_Expected Number of Deaths</th>\n      <th>A.3 Total Costs</th>\n      <th>A.3_Expected Number of Deaths</th>\n      <th>A.4 Total Costs</th>\n      <th>A.4_Expected Number of Deaths</th>\n      <th>A.5 Total Costs</th>\n      <th>A.5_Expected Number of Deaths</th>\n      <th>RfR Total Costs</th>\n      <th>Expected Evacuation Costs</th>\n    </tr>\n  </thead>\n  <tbody>\n    <tr>\n      <th>0</th>\n      <td>5.397251e+07</td>\n      <td>0.000000</td>\n      <td>1.995954e+08</td>\n      <td>0.252090</td>\n      <td>4.270630e+08</td>\n      <td>1.020176</td>\n      <td>0.000000e+00</td>\n      <td>0.000000</td>\n      <td>0.000000e+00</td>\n      <td>0.000000</td>\n      <td>253800000.0</td>\n      <td>0.0</td>\n    </tr>\n    <tr>\n      <th>1</th>\n      <td>5.397251e+07</td>\n      <td>0.000000</td>\n      <td>6.420571e+07</td>\n      <td>0.065114</td>\n      <td>5.134681e+07</td>\n      <td>0.097512</td>\n      <td>0.000000e+00</td>\n      <td>0.000000</td>\n      <td>2.693422e+08</td>\n      <td>0.257362</td>\n      <td>253800000.0</td>\n      <td>0.0</td>\n    </tr>\n    <tr>\n      <th>2</th>\n      <td>5.397251e+07</td>\n      <td>0.000000</td>\n      <td>9.038409e+07</td>\n      <td>0.074047</td>\n      <td>4.941064e+08</td>\n      <td>0.747670</td>\n      <td>0.000000e+00</td>\n      <td>0.000000</td>\n      <td>0.000000e+00</td>\n      <td>0.000000</td>\n      <td>253800000.0</td>\n      <td>0.0</td>\n    </tr>\n    <tr>\n      <th>3</th>\n      <td>5.397251e+07</td>\n      <td>0.000000</td>\n      <td>4.723772e+07</td>\n      <td>0.044726</td>\n      <td>2.933152e+07</td>\n      <td>0.052574</td>\n      <td>5.992694e+06</td>\n      <td>0.003014</td>\n      <td>8.634670e+08</td>\n      <td>0.739040</td>\n      <td>253800000.0</td>\n      <td>0.0</td>\n    </tr>\n    <tr>\n      <th>4</th>\n      <td>5.397251e+07</td>\n      <td>0.000000</td>\n      <td>9.128966e+07</td>\n      <td>0.108010</td>\n      <td>1.743643e+09</td>\n      <td>3.674350</td>\n      <td>3.963808e+07</td>\n      <td>0.020695</td>\n      <td>0.000000e+00</td>\n      <td>0.000000</td>\n      <td>253800000.0</td>\n      <td>0.0</td>\n    </tr>\n    <tr>\n      <th>...</th>\n      <td>...</td>\n      <td>...</td>\n      <td>...</td>\n      <td>...</td>\n      <td>...</td>\n      <td>...</td>\n      <td>...</td>\n      <td>...</td>\n      <td>...</td>\n      <td>...</td>\n      <td>...</td>\n      <td>...</td>\n    </tr>\n    <tr>\n      <th>295</th>\n      <td>0.000000e+00</td>\n      <td>0.000000</td>\n      <td>2.223971e+08</td>\n      <td>0.235910</td>\n      <td>2.879840e+07</td>\n      <td>0.000000</td>\n      <td>0.000000e+00</td>\n      <td>0.000000</td>\n      <td>9.606522e+07</td>\n      <td>0.098229</td>\n      <td>369700000.0</td>\n      <td>0.0</td>\n    </tr>\n    <tr>\n      <th>296</th>\n      <td>0.000000e+00</td>\n      <td>0.000000</td>\n      <td>2.353052e+07</td>\n      <td>0.025375</td>\n      <td>2.879840e+07</td>\n      <td>0.000000</td>\n      <td>1.044166e+07</td>\n      <td>0.005787</td>\n      <td>4.252814e+07</td>\n      <td>0.042932</td>\n      <td>369700000.0</td>\n      <td>0.0</td>\n    </tr>\n    <tr>\n      <th>297</th>\n      <td>1.329255e+09</td>\n      <td>0.943751</td>\n      <td>1.703394e+08</td>\n      <td>0.165015</td>\n      <td>2.879840e+07</td>\n      <td>0.000000</td>\n      <td>0.000000e+00</td>\n      <td>0.000000</td>\n      <td>0.000000e+00</td>\n      <td>0.000000</td>\n      <td>369700000.0</td>\n      <td>0.0</td>\n    </tr>\n    <tr>\n      <th>298</th>\n      <td>0.000000e+00</td>\n      <td>0.000000</td>\n      <td>1.048851e+07</td>\n      <td>0.011397</td>\n      <td>2.879840e+07</td>\n      <td>0.000000</td>\n      <td>7.030092e+06</td>\n      <td>0.004276</td>\n      <td>4.061237e+08</td>\n      <td>0.391294</td>\n      <td>369700000.0</td>\n      <td>0.0</td>\n    </tr>\n    <tr>\n      <th>299</th>\n      <td>0.000000e+00</td>\n      <td>0.000000</td>\n      <td>4.193958e+08</td>\n      <td>0.344468</td>\n      <td>2.879840e+07</td>\n      <td>0.000000</td>\n      <td>6.966108e+06</td>\n      <td>0.002888</td>\n      <td>0.000000e+00</td>\n      <td>0.000000</td>\n      <td>369700000.0</td>\n      <td>0.0</td>\n    </tr>\n  </tbody>\n</table>\n<p>300 rows × 12 columns</p>\n</div>",
      "text/plain": "     A.1 Total Costs  A.1_Expected Number of Deaths  A.2 Total Costs   \n0       5.397251e+07                       0.000000     1.995954e+08  \\\n1       5.397251e+07                       0.000000     6.420571e+07   \n2       5.397251e+07                       0.000000     9.038409e+07   \n3       5.397251e+07                       0.000000     4.723772e+07   \n4       5.397251e+07                       0.000000     9.128966e+07   \n..               ...                            ...              ...   \n295     0.000000e+00                       0.000000     2.223971e+08   \n296     0.000000e+00                       0.000000     2.353052e+07   \n297     1.329255e+09                       0.943751     1.703394e+08   \n298     0.000000e+00                       0.000000     1.048851e+07   \n299     0.000000e+00                       0.000000     4.193958e+08   \n\n     A.2_Expected Number of Deaths  A.3 Total Costs   \n0                         0.252090     4.270630e+08  \\\n1                         0.065114     5.134681e+07   \n2                         0.074047     4.941064e+08   \n3                         0.044726     2.933152e+07   \n4                         0.108010     1.743643e+09   \n..                             ...              ...   \n295                       0.235910     2.879840e+07   \n296                       0.025375     2.879840e+07   \n297                       0.165015     2.879840e+07   \n298                       0.011397     2.879840e+07   \n299                       0.344468     2.879840e+07   \n\n     A.3_Expected Number of Deaths  A.4 Total Costs   \n0                         1.020176     0.000000e+00  \\\n1                         0.097512     0.000000e+00   \n2                         0.747670     0.000000e+00   \n3                         0.052574     5.992694e+06   \n4                         3.674350     3.963808e+07   \n..                             ...              ...   \n295                       0.000000     0.000000e+00   \n296                       0.000000     1.044166e+07   \n297                       0.000000     0.000000e+00   \n298                       0.000000     7.030092e+06   \n299                       0.000000     6.966108e+06   \n\n     A.4_Expected Number of Deaths  A.5 Total Costs   \n0                         0.000000     0.000000e+00  \\\n1                         0.000000     2.693422e+08   \n2                         0.000000     0.000000e+00   \n3                         0.003014     8.634670e+08   \n4                         0.020695     0.000000e+00   \n..                             ...              ...   \n295                       0.000000     9.606522e+07   \n296                       0.005787     4.252814e+07   \n297                       0.000000     0.000000e+00   \n298                       0.004276     4.061237e+08   \n299                       0.002888     0.000000e+00   \n\n     A.5_Expected Number of Deaths  RfR Total Costs  Expected Evacuation Costs  \n0                         0.000000      253800000.0                        0.0  \n1                         0.257362      253800000.0                        0.0  \n2                         0.000000      253800000.0                        0.0  \n3                         0.739040      253800000.0                        0.0  \n4                         0.000000      253800000.0                        0.0  \n..                             ...              ...                        ...  \n295                       0.098229      369700000.0                        0.0  \n296                       0.042932      369700000.0                        0.0  \n297                       0.000000      369700000.0                        0.0  \n298                       0.391294      369700000.0                        0.0  \n299                       0.000000      369700000.0                        0.0  \n\n[300 rows x 12 columns]"
     },
     "execution_count": 16,
     "metadata": {},
     "output_type": "execute_result"
    }
   ],
   "source": [
    "# only works because we have scalar outcomes\n",
    "pd.DataFrame(outcomes)"
   ]
  },
  {
   "cell_type": "code",
   "execution_count": null,
   "metadata": {
    "pycharm": {
     "name": "#%%"
    }
   },
   "outputs": [],
   "source": []
  }
 ],
 "metadata": {
  "kernelspec": {
   "display_name": "Python 3 (ipykernel)",
   "language": "python",
   "name": "python3"
  },
  "language_info": {
   "codemirror_mode": {
    "name": "ipython",
    "version": 3
   },
   "file_extension": ".py",
   "mimetype": "text/x-python",
   "name": "python",
   "nbconvert_exporter": "python",
   "pygments_lexer": "ipython3",
   "version": "3.11.3"
  }
 },
 "nbformat": 4,
 "nbformat_minor": 4
}