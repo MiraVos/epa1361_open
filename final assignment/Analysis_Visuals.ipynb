{
 "cells": [
  {
   "cell_type": "code",
   "execution_count": null,
   "metadata": {},
   "outputs": [],
   "source": [
    "import numpy as np\n",
    "import scipy as sp\n",
    "import pandas as pd\n",
    "import matplotlib.pyplot as plt\n",
    "import seaborn as sns\n",
    "import networkx as nx\n",
    "\n",
    "#mira is beautiful"
   ]
  },
  {
   "cell_type": "code",
   "execution_count": null,
   "metadata": {},
   "outputs": [],
   "source": [
    "experiments = pd.read_csv('data/policy-experiments.csv')\n",
    "outcomes = pd.read_csv('data/policy-outcomes.csv') #maybe outcomes.to_numpy() necessary"
   ]
  },
  {
   "cell_type": "markdown",
   "metadata": {},
   "source": [
    "## Visualisations"
   ]
  },
  {
   "cell_type": "code",
   "execution_count": null,
   "metadata": {},
   "outputs": [],
   "source": [
    "#For each of the outcomes classes (e.g. total cost, casualities) plot the range of outcome values generated under the sampled uncertainty scenarios\n",
    "from ema_workbench.analysis import plotting, plotting_util\n",
    "\n",
    "for outcome in outcomes.keys():\n",
    "    plotting.lines(experiments, outcomes, outcomes_to_show=outcome,\n",
    "                   density=plotting_util.Density.HIST)\n",
    "plt.show()"
   ]
  },
  {
   "cell_type": "code",
   "execution_count": null,
   "metadata": {},
   "outputs": [],
   "source": [
    "#Simple Visual Subspace partitioning: IF only 2 uncertainties present, shows visually the area where highest/lowest values of 1 outcome are found\n",
    "\n",
    "# Calculate the maximum value of outcome I\n",
    "I = outcomes['I']\n",
    "maxI = np.max(I, axis=1)\n",
    "# Calculate the timing of the maximum value of I\n",
    "timing = np.argmax(I, axis=1)\n",
    "\n",
    "def plot_scatter(labels=True, beta_is_gamma_line=True):\n",
    "    # Plot the relationship between beta and gamma, using max I and timing as color\n",
    "    fig, ax = plt.subplots(1,2, figsize=(12,6))\n",
    "\n",
    "    for i, hue in enumerate([maxI, timing]):\n",
    "        sc = ax[i].scatter(experiments.beta, experiments.gamma, c=hue, cmap='viridis')\n",
    "        cb = plt.colorbar(sc)\n",
    "        ax[i].set_title(f\"Relationship between beta, gamma and {['max. I', 'timing of max I'][i]}\")\n",
    "        ax[i].set_xlabel('Beta (contact rate)')\n",
    "        ax[i].set_ylabel('Gamma (recovery rate)')\n",
    "        cb.set_label(['max. infections', 'time step of max. I.'][i])\n",
    "\n",
    "        # Add labels with the hue value\n",
    "        if labels:\n",
    "            for j, (beta, gamma) in enumerate(zip(experiments.beta, experiments.gamma)):\n",
    "                ax[i].text(beta, gamma, f\"{hue[j]:.0f}\", fontsize=8)\n",
    "\n",
    "        # To the second plot, add a line with beta = gamma\n",
    "        if i == 1 and beta_is_gamma_line:\n",
    "            ax[i].plot(np.linspace(0.05,0.15), np.linspace(0.05,0.15), color='red')\n",
    "    plt.show()\n",
    "\n",
    "plot_scatter()\n"
   ]
  },
  {
   "cell_type": "code",
   "execution_count": null,
   "metadata": {},
   "outputs": [],
   "source": [
    "#Simple Visual Correlation Analysis: for 2 outcomes of interest\n",
    "\n",
    "# Calculate the maximum value of outcome I\n",
    "I = outcomes['I']\n",
    "maxI = np.max(I, axis=1)\n",
    "# Calculate the timing of the maximum value of I\n",
    "timing = np.argmax(I, axis=1)\n",
    "\n",
    "fig, ax = plt.subplots(figsize=(6,6))\n",
    "\n",
    "sc = ax.scatter(timing, maxI)\n",
    "ax.set_title('Timing and severity of outbreak')\n",
    "ax.set_xlabel('Point in time')\n",
    "ax.set_ylabel('Max. I (infected)')\n",
    "plt.show()"
   ]
  },
  {
   "cell_type": "code",
   "execution_count": null,
   "metadata": {},
   "outputs": [],
   "source": [
    "#Simple Visual Correlation and Trade-Off Analysis: for multiple outcomes of interest; Which uncertainties generate system behaviour?\n",
    "from ema_workbench.analysis import pairs_plotting\n",
    "\n",
    "pairs_plotting.pairs_scatter(experiments, outcomes)\n",
    "\n",
    "fig = plt.gcf()\n",
    "fig.set_size_inches(8,8)\n",
    "\n",
    "plt.show()\n",
    "\n",
    "#alternative seaborn sns based plot\n",
    "experiments, outcomes = results\n",
    "policies = experiments['policy']\n",
    "\n",
    "data = pd.DataFrame.from_dict(outcomes)\n",
    "data['policy'] = policies\n",
    "\n",
    "sns.pairplot(data, hue='policy',  vars=outcomes.keys(), )\n",
    "plt.show()"
   ]
  },
  {
   "cell_type": "markdown",
   "metadata": {},
   "source": [
    "## Analysis"
   ]
  },
  {
   "cell_type": "code",
   "execution_count": null,
   "metadata": {},
   "outputs": [],
   "source": [
    "#Scenario Discovery PRIM, should not be used if many uncertainty parameters and very non-linear behaviour, only for 1 outcome\n",
    "from ema_workbench.analysis import prim\n",
    "from ema_workbench import ema_logging\n",
    "ema_logging.log_to_stderr(ema_logging.INFO)\n",
    "\n",
    "prim_alg = prim.Prim(x, y, threshold=0.8, peel_alpha=0.1) #replace x with experiments, y with outcomes\n",
    "box1 = prim_alg.find_box()\n",
    "\n",
    "box1.show_tradeoff(annotated=True)\n",
    "plt.show()\n",
    "\n",
    "point=10\n",
    "box1.inspect(point, style='graph')\n",
    "plt.show()\n",
    "\n",
    "box1.resample(point) #those with high percentages are reliable under resampling, those with very low % can be ignored in interpretation (bc. not reliable)\n",
    "\n",
    "box1.select(21)\n",
    "box1.show_pairs_scatter()\n",
    "fig = plt.gcf()\n",
    "fig.set_size_inches(12,12)\n",
    "plt.show()"
   ]
  },
  {
   "cell_type": "code",
   "execution_count": null,
   "metadata": {},
   "outputs": [],
   "source": [
    "#Subspace partitioning for 1 outcome and 2 uncertainties (same as PRIM but with restricted set of acceptable outcomes)\n",
    "data = outcomes['reliability']\n",
    "\n",
    "y = data < np.percentile(data, 10) #restricting set of outcomes\n",
    "\n",
    "prim_alg = prim.Prim(cleaned_experiments,y, threshold=0.8)\n",
    "box1 = prim_alg.find_box()\n",
    "\n",
    "from ema_workbench.analysis import dimensional_stacking\n",
    "dimensional_stacking.create_pivot_plot(cleaned_experiments, y) #plot should not contain white spaces (otherwise generate more scenarios)\n",
    "\n",
    "#Why do we get this box? What is the structural explanation for it?"
   ]
  },
  {
   "cell_type": "code",
   "execution_count": null,
   "metadata": {},
   "outputs": [],
   "source": []
  }
 ],
 "metadata": {
  "language_info": {
   "name": "python",
   "nbconvert_exporter": "python"
  },
  "orig_nbformat": 2
 },
 "nbformat": 4,
 "nbformat_minor": 2
}
